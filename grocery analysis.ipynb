{
 "cells": [
  {
   "cell_type": "markdown",
   "id": "72228b42",
   "metadata": {
    "papermill": {
     "duration": 0.007433,
     "end_time": "2022-11-19T07:34:05.057387",
     "exception": false,
     "start_time": "2022-11-19T07:34:05.049954",
     "status": "completed"
    },
    "tags": []
   },
   "source": [
    "<div style=\"text-align: left; background-color:#4b94cf; font-family: bodoni; color:white; padding: 10px; margin-bottom: 0em; text-align: center; font-size: 48px;\">Big basket EDA by rmd </div>"
   ]
  },
  {
   "cell_type": "markdown",
   "id": "d0ffdd0f",
   "metadata": {
    "papermill": {
     "duration": 0.005799,
     "end_time": "2022-11-19T07:34:05.069626",
     "exception": false,
     "start_time": "2022-11-19T07:34:05.063827",
     "status": "completed"
    },
    "tags": []
   },
   "source": [
    "**E-commerce** (electronic commerce) is the activity of electronically buying or selling of products on online services or over the Internet. E-commerce draws on technologies such as mobile commerce, electronic funds transfer, supply chain management, Internet marketing, online transaction processing, electronic data interchange (EDI), inventory management systems, and automated data collection systems. E-commerce is in turn driven by the technological advances of the semiconductor industry, and is the largest sector of the electronics industry.\n",
    "\n",
    "![](https://img.freepik.com/free-vector/online-shopping-banner-mobile-app-templates-concept-flat-design_1150-34865.jpg?w=740&t=st=1659930109~exp=1659930709~hmac=1df6da9d4f62478113772068daa95cf21428910736485939e6b09f7ad501fbcd)\n",
    "\n",
    "# About the dataset:\n",
    "\n",
    "Bigbasket is the largest online grocery supermarket in India. Was launched somewhere around in 2011 since then they've been expanding their business. Though some new competitors have been able to set their foot in the nation such as Blinkit etc. but BigBasket has still not loose anything - thanks to ever expanding popular base and their shift to online buying.\n",
    "\n",
    "# Features of the dataset:\n",
    "\n",
    "It contains\n",
    "* Index\n",
    "* Product name\n",
    "* Category\n",
    "* Sub-category\n",
    "* Brand of the product\n",
    "* Sale price \n",
    "* Type\n",
    "* Rating (out of 5)\n",
    "* Small description of the product\n",
    "\n",
    "Let's start our work with importing necessary libraries and the dataset!"
   ]
  },
  {
   "cell_type": "code",
   "execution_count": 1,
   "id": "7e06cd2a",
   "metadata": {
    "execution": {
     "iopub.execute_input": "2022-11-19T07:34:05.084995Z",
     "iopub.status.busy": "2022-11-19T07:34:05.083880Z",
     "iopub.status.idle": "2022-11-19T07:34:07.365212Z",
     "shell.execute_reply": "2022-11-19T07:34:07.363986Z"
    },
    "papermill": {
     "duration": 2.292521,
     "end_time": "2022-11-19T07:34:07.368351",
     "exception": false,
     "start_time": "2022-11-19T07:34:05.075830",
     "status": "completed"
    },
    "tags": []
   },
   "outputs": [],
   "source": [
    "import numpy as np # linear algebra\n",
    "import pandas as pd # data processing, CSV file I/O (e.g. pd.read_csv)\n",
    "import matplotlib.pyplot as plt\n",
    "import seaborn as sns\n",
    "import plotly.express as px\n",
    "\n",
    "plt.style.use(\"Solarize_Light2\")\n",
    "#sns.set_palette(\"dark\")\n",
    "#sns.set_style(\"ticks\")\n",
    "\n",
    "%matplotlib inline\n",
    "\n",
    "import warnings\n",
    "warnings.filterwarnings(\"ignore\")"
   ]
  },
  {
   "cell_type": "code",
   "execution_count": 2,
   "id": "3fd3bcd0",
   "metadata": {
    "execution": {
     "iopub.execute_input": "2022-11-19T07:34:07.382900Z",
     "iopub.status.busy": "2022-11-19T07:34:07.382474Z",
     "iopub.status.idle": "2022-11-19T07:34:07.941939Z",
     "shell.execute_reply": "2022-11-19T07:34:07.940636Z"
    },
    "papermill": {
     "duration": 0.569997,
     "end_time": "2022-11-19T07:34:07.944687",
     "exception": false,
     "start_time": "2022-11-19T07:34:07.374690",
     "status": "completed"
    },
    "tags": []
   },
   "outputs": [
    {
     "data": {
      "text/html": [
       "<div>\n",
       "<style scoped>\n",
       "    .dataframe tbody tr th:only-of-type {\n",
       "        vertical-align: middle;\n",
       "    }\n",
       "\n",
       "    .dataframe tbody tr th {\n",
       "        vertical-align: top;\n",
       "    }\n",
       "\n",
       "    .dataframe thead th {\n",
       "        text-align: right;\n",
       "    }\n",
       "</style>\n",
       "<table border=\"1\" class=\"dataframe\">\n",
       "  <thead>\n",
       "    <tr style=\"text-align: right;\">\n",
       "      <th></th>\n",
       "      <th>index</th>\n",
       "      <th>product</th>\n",
       "      <th>category</th>\n",
       "      <th>sub_category</th>\n",
       "      <th>brand</th>\n",
       "      <th>sale_price</th>\n",
       "      <th>market_price</th>\n",
       "      <th>type</th>\n",
       "      <th>rating</th>\n",
       "      <th>description</th>\n",
       "    </tr>\n",
       "  </thead>\n",
       "  <tbody>\n",
       "    <tr>\n",
       "      <th>0</th>\n",
       "      <td>1</td>\n",
       "      <td>Garlic Oil - Vegetarian Capsule 500 mg</td>\n",
       "      <td>Beauty &amp; Hygiene</td>\n",
       "      <td>Hair Care</td>\n",
       "      <td>Sri Sri Ayurveda</td>\n",
       "      <td>220.0</td>\n",
       "      <td>220.0</td>\n",
       "      <td>Hair Oil &amp; Serum</td>\n",
       "      <td>4.1</td>\n",
       "      <td>This Product contains Garlic Oil that is known...</td>\n",
       "    </tr>\n",
       "    <tr>\n",
       "      <th>1</th>\n",
       "      <td>2</td>\n",
       "      <td>Water Bottle - Orange</td>\n",
       "      <td>Kitchen, Garden &amp; Pets</td>\n",
       "      <td>Storage &amp; Accessories</td>\n",
       "      <td>Mastercook</td>\n",
       "      <td>180.0</td>\n",
       "      <td>180.0</td>\n",
       "      <td>Water &amp; Fridge Bottles</td>\n",
       "      <td>2.3</td>\n",
       "      <td>Each product is microwave safe (without lid), ...</td>\n",
       "    </tr>\n",
       "    <tr>\n",
       "      <th>2</th>\n",
       "      <td>3</td>\n",
       "      <td>Brass Angle Deep - Plain, No.2</td>\n",
       "      <td>Cleaning &amp; Household</td>\n",
       "      <td>Pooja Needs</td>\n",
       "      <td>Trm</td>\n",
       "      <td>119.0</td>\n",
       "      <td>250.0</td>\n",
       "      <td>Lamp &amp; Lamp Oil</td>\n",
       "      <td>3.4</td>\n",
       "      <td>A perfect gift for all occasions, be it your m...</td>\n",
       "    </tr>\n",
       "    <tr>\n",
       "      <th>3</th>\n",
       "      <td>4</td>\n",
       "      <td>Cereal Flip Lid Container/Storage Jar - Assort...</td>\n",
       "      <td>Cleaning &amp; Household</td>\n",
       "      <td>Bins &amp; Bathroom Ware</td>\n",
       "      <td>Nakoda</td>\n",
       "      <td>149.0</td>\n",
       "      <td>176.0</td>\n",
       "      <td>Laundry, Storage Baskets</td>\n",
       "      <td>3.7</td>\n",
       "      <td>Multipurpose container with an attractive desi...</td>\n",
       "    </tr>\n",
       "    <tr>\n",
       "      <th>4</th>\n",
       "      <td>5</td>\n",
       "      <td>Creme Soft Soap - For Hands &amp; Body</td>\n",
       "      <td>Beauty &amp; Hygiene</td>\n",
       "      <td>Bath &amp; Hand Wash</td>\n",
       "      <td>Nivea</td>\n",
       "      <td>162.0</td>\n",
       "      <td>162.0</td>\n",
       "      <td>Bathing Bars &amp; Soaps</td>\n",
       "      <td>4.4</td>\n",
       "      <td>Nivea Creme Soft Soap gives your skin the best...</td>\n",
       "    </tr>\n",
       "  </tbody>\n",
       "</table>\n",
       "</div>"
      ],
      "text/plain": [
       "   index                                            product  \\\n",
       "0      1             Garlic Oil - Vegetarian Capsule 500 mg   \n",
       "1      2                              Water Bottle - Orange   \n",
       "2      3                     Brass Angle Deep - Plain, No.2   \n",
       "3      4  Cereal Flip Lid Container/Storage Jar - Assort...   \n",
       "4      5                 Creme Soft Soap - For Hands & Body   \n",
       "\n",
       "                 category           sub_category              brand  \\\n",
       "0        Beauty & Hygiene              Hair Care  Sri Sri Ayurveda    \n",
       "1  Kitchen, Garden & Pets  Storage & Accessories         Mastercook   \n",
       "2    Cleaning & Household            Pooja Needs                Trm   \n",
       "3    Cleaning & Household   Bins & Bathroom Ware             Nakoda   \n",
       "4        Beauty & Hygiene       Bath & Hand Wash              Nivea   \n",
       "\n",
       "   sale_price  market_price                      type  rating  \\\n",
       "0       220.0         220.0          Hair Oil & Serum     4.1   \n",
       "1       180.0         180.0    Water & Fridge Bottles     2.3   \n",
       "2       119.0         250.0           Lamp & Lamp Oil     3.4   \n",
       "3       149.0         176.0  Laundry, Storage Baskets     3.7   \n",
       "4       162.0         162.0      Bathing Bars & Soaps     4.4   \n",
       "\n",
       "                                         description  \n",
       "0  This Product contains Garlic Oil that is known...  \n",
       "1  Each product is microwave safe (without lid), ...  \n",
       "2  A perfect gift for all occasions, be it your m...  \n",
       "3  Multipurpose container with an attractive desi...  \n",
       "4  Nivea Creme Soft Soap gives your skin the best...  "
      ]
     },
     "execution_count": 2,
     "metadata": {},
     "output_type": "execute_result"
    }
   ],
   "source": [
    "bigbasket =pd.read_csv(\"../input/bigbasket-entire-product-list-28k-datapoints/BigBasket Products.csv\")\n",
    "bigbasket.head()"
   ]
  },
  {
   "cell_type": "code",
   "execution_count": 3,
   "id": "a8aa3364",
   "metadata": {
    "execution": {
     "iopub.execute_input": "2022-11-19T07:34:07.960662Z",
     "iopub.status.busy": "2022-11-19T07:34:07.960184Z",
     "iopub.status.idle": "2022-11-19T07:34:08.001435Z",
     "shell.execute_reply": "2022-11-19T07:34:08.000237Z"
    },
    "papermill": {
     "duration": 0.052152,
     "end_time": "2022-11-19T07:34:08.004261",
     "exception": false,
     "start_time": "2022-11-19T07:34:07.952109",
     "status": "completed"
    },
    "tags": []
   },
   "outputs": [
    {
     "data": {
      "text/html": [
       "<div>\n",
       "<style scoped>\n",
       "    .dataframe tbody tr th:only-of-type {\n",
       "        vertical-align: middle;\n",
       "    }\n",
       "\n",
       "    .dataframe tbody tr th {\n",
       "        vertical-align: top;\n",
       "    }\n",
       "\n",
       "    .dataframe thead th {\n",
       "        text-align: right;\n",
       "    }\n",
       "</style>\n",
       "<table border=\"1\" class=\"dataframe\">\n",
       "  <thead>\n",
       "    <tr style=\"text-align: right;\">\n",
       "      <th></th>\n",
       "      <th>index</th>\n",
       "      <th>sale_price</th>\n",
       "      <th>market_price</th>\n",
       "      <th>rating</th>\n",
       "    </tr>\n",
       "  </thead>\n",
       "  <tbody>\n",
       "    <tr>\n",
       "      <th>count</th>\n",
       "      <td>27555.00000</td>\n",
       "      <td>27555.000000</td>\n",
       "      <td>27555.000000</td>\n",
       "      <td>18929.000000</td>\n",
       "    </tr>\n",
       "    <tr>\n",
       "      <th>mean</th>\n",
       "      <td>13778.00000</td>\n",
       "      <td>322.514808</td>\n",
       "      <td>382.056664</td>\n",
       "      <td>3.943410</td>\n",
       "    </tr>\n",
       "    <tr>\n",
       "      <th>std</th>\n",
       "      <td>7954.58767</td>\n",
       "      <td>486.263116</td>\n",
       "      <td>581.730717</td>\n",
       "      <td>0.739063</td>\n",
       "    </tr>\n",
       "    <tr>\n",
       "      <th>min</th>\n",
       "      <td>1.00000</td>\n",
       "      <td>2.450000</td>\n",
       "      <td>3.000000</td>\n",
       "      <td>1.000000</td>\n",
       "    </tr>\n",
       "    <tr>\n",
       "      <th>25%</th>\n",
       "      <td>6889.50000</td>\n",
       "      <td>95.000000</td>\n",
       "      <td>100.000000</td>\n",
       "      <td>3.700000</td>\n",
       "    </tr>\n",
       "    <tr>\n",
       "      <th>50%</th>\n",
       "      <td>13778.00000</td>\n",
       "      <td>190.000000</td>\n",
       "      <td>220.000000</td>\n",
       "      <td>4.100000</td>\n",
       "    </tr>\n",
       "    <tr>\n",
       "      <th>75%</th>\n",
       "      <td>20666.50000</td>\n",
       "      <td>359.000000</td>\n",
       "      <td>425.000000</td>\n",
       "      <td>4.300000</td>\n",
       "    </tr>\n",
       "    <tr>\n",
       "      <th>max</th>\n",
       "      <td>27555.00000</td>\n",
       "      <td>12500.000000</td>\n",
       "      <td>12500.000000</td>\n",
       "      <td>5.000000</td>\n",
       "    </tr>\n",
       "  </tbody>\n",
       "</table>\n",
       "</div>"
      ],
      "text/plain": [
       "             index    sale_price  market_price        rating\n",
       "count  27555.00000  27555.000000  27555.000000  18929.000000\n",
       "mean   13778.00000    322.514808    382.056664      3.943410\n",
       "std     7954.58767    486.263116    581.730717      0.739063\n",
       "min        1.00000      2.450000      3.000000      1.000000\n",
       "25%     6889.50000     95.000000    100.000000      3.700000\n",
       "50%    13778.00000    190.000000    220.000000      4.100000\n",
       "75%    20666.50000    359.000000    425.000000      4.300000\n",
       "max    27555.00000  12500.000000  12500.000000      5.000000"
      ]
     },
     "execution_count": 3,
     "metadata": {},
     "output_type": "execute_result"
    }
   ],
   "source": [
    "bigbasket.describe()"
   ]
  },
  {
   "cell_type": "code",
   "execution_count": 4,
   "id": "f08bffc8",
   "metadata": {
    "execution": {
     "iopub.execute_input": "2022-11-19T07:34:08.019880Z",
     "iopub.status.busy": "2022-11-19T07:34:08.019379Z",
     "iopub.status.idle": "2022-11-19T07:34:08.046834Z",
     "shell.execute_reply": "2022-11-19T07:34:08.045278Z"
    },
    "papermill": {
     "duration": 0.038735,
     "end_time": "2022-11-19T07:34:08.049969",
     "exception": false,
     "start_time": "2022-11-19T07:34:08.011234",
     "status": "completed"
    },
    "tags": []
   },
   "outputs": [
    {
     "name": "stdout",
     "output_type": "stream",
     "text": [
      "<class 'pandas.core.frame.DataFrame'>\n",
      "RangeIndex: 27555 entries, 0 to 27554\n",
      "Data columns (total 10 columns):\n",
      " #   Column        Non-Null Count  Dtype  \n",
      "---  ------        --------------  -----  \n",
      " 0   index         27555 non-null  int64  \n",
      " 1   product       27554 non-null  object \n",
      " 2   category      27555 non-null  object \n",
      " 3   sub_category  27555 non-null  object \n",
      " 4   brand         27554 non-null  object \n",
      " 5   sale_price    27555 non-null  float64\n",
      " 6   market_price  27555 non-null  float64\n",
      " 7   type          27555 non-null  object \n",
      " 8   rating        18929 non-null  float64\n",
      " 9   description   27440 non-null  object \n",
      "dtypes: float64(3), int64(1), object(6)\n",
      "memory usage: 2.1+ MB\n"
     ]
    }
   ],
   "source": [
    "bigbasket.info()"
   ]
  },
  {
   "cell_type": "markdown",
   "id": "4ef056c9",
   "metadata": {
    "papermill": {
     "duration": 0.006598,
     "end_time": "2022-11-19T07:34:08.063533",
     "exception": false,
     "start_time": "2022-11-19T07:34:08.056935",
     "status": "completed"
    },
    "tags": []
   },
   "source": [
    "<div style=\"text-align: left; background-color:#4b94cf; font-family: bodoni; color:white; padding: 10px; margin-bottom: 0em; text-align: center; font-size: 28px;\">Top & least sold products</div>"
   ]
  },
  {
   "cell_type": "markdown",
   "id": "0221e4d0",
   "metadata": {
    "papermill": {
     "duration": 0.006611,
     "end_time": "2022-11-19T07:34:08.077474",
     "exception": false,
     "start_time": "2022-11-19T07:34:08.070863",
     "status": "completed"
    },
    "tags": []
   },
   "source": [
    "**Top and least sold products**"
   ]
  },
  {
   "cell_type": "code",
   "execution_count": 5,
   "id": "e7764a20",
   "metadata": {
    "execution": {
     "iopub.execute_input": "2022-11-19T07:34:08.095765Z",
     "iopub.status.busy": "2022-11-19T07:34:08.094426Z",
     "iopub.status.idle": "2022-11-19T07:34:08.126100Z",
     "shell.execute_reply": "2022-11-19T07:34:08.124581Z"
    },
    "papermill": {
     "duration": 0.043567,
     "end_time": "2022-11-19T07:34:08.129001",
     "exception": false,
     "start_time": "2022-11-19T07:34:08.085434",
     "status": "completed"
    },
    "tags": []
   },
   "outputs": [],
   "source": [
    "top = bigbasket[\"product\"].value_counts().head(15)\n",
    "least=bigbasket[\"product\"].value_counts().tail(15)"
   ]
  },
  {
   "cell_type": "code",
   "execution_count": 6,
   "id": "4c9a8b56",
   "metadata": {
    "execution": {
     "iopub.execute_input": "2022-11-19T07:34:08.145301Z",
     "iopub.status.busy": "2022-11-19T07:34:08.144274Z",
     "iopub.status.idle": "2022-11-19T07:34:08.508690Z",
     "shell.execute_reply": "2022-11-19T07:34:08.506951Z"
    },
    "papermill": {
     "duration": 0.376315,
     "end_time": "2022-11-19T07:34:08.512255",
     "exception": false,
     "start_time": "2022-11-19T07:34:08.135940",
     "status": "completed"
    },
    "tags": []
   },
   "outputs": [
    {
     "data": {
      "image/png": "[encoded data removed]",
      "text/plain": [
       "<Figure size 1008x288 with 1 Axes>"
      ]
     },
     "metadata": {
      "needs_background": "light"
     },
     "output_type": "display_data"
    }
   ],
   "source": [
    "fig = plt.figure(figsize=(14,4))\n",
    "ax = fig.add_axes([0,0,1,1])\n",
    "\n",
    "import textwrap\n",
    "def wrap_labels(ax, width, break_long_words=False):\n",
    "    labels = []\n",
    "    for label in ax.get_xticklabels():\n",
    "        text = label.get_text()\n",
    "        labels.append(textwrap.fill(text, width=width,\n",
    "                      break_long_words=break_long_words))\n",
    "    ax.set_xticklabels(labels, rotation=0)\n",
    "\n",
    "    \n",
    "\n",
    "\n",
    "sns.barplot(x=top.index, y=top.values, data=bigbasket,\n",
    "            linewidth=0,\n",
    "            alpha=1.0,\n",
    "            color=\"#4b94cf\")\n",
    "\n",
    "#format axis\n",
    "ax.set_xlabel(\"Most sold products\",fontsize=15, weight='semibold')\n",
    "ax.set_ylabel(\"Number\",fontsize=15, weight='semibold')\n",
    "\n",
    "wrap_labels(ax, 10)\n",
    "\n",
    "plt.show()"
   ]
  },
  {
   "cell_type": "code",
   "execution_count": 7,
   "id": "b2a65074",
   "metadata": {
    "execution": {
     "iopub.execute_input": "2022-11-19T07:34:08.529024Z",
     "iopub.status.busy": "2022-11-19T07:34:08.528541Z",
     "iopub.status.idle": "2022-11-19T07:34:08.874829Z",
     "shell.execute_reply": "2022-11-19T07:34:08.872578Z"
    },
    "papermill": {
     "duration": 0.35898,
     "end_time": "2022-11-19T07:34:08.878733",
     "exception": false,
     "start_time": "2022-11-19T07:34:08.519753",
     "status": "completed"
    },
    "tags": []
   },
   "outputs": [
    {
     "data": {
      "image/png": "[encoded data removed]",
      "text/plain": [
       "<Figure size 1008x288 with 1 Axes>"
      ]
     },
     "metadata": {
      "needs_background": "light"
     },
     "output_type": "display_data"
    }
   ],
   "source": [
    "fig = plt.figure(figsize=(14,4))\n",
    "ax = fig.add_axes([0,0,1,1])\n",
    "\n",
    "sns.barplot(x=least.index, y=least.values, data=bigbasket, linewidth=0, alpha=1.0, color=\"darkgoldenrod\")\n",
    "sns.set(style=\"ticks\")\n",
    "\n",
    "#format axis\n",
    "ax.set_xlabel(\"Least sold products\",fontsize=15, weight='semibold')\n",
    "ax.set_ylabel(\"Number\",fontsize=15, weight='semibold')\n",
    "plt.xticks(fontsize=10, weight=\"semibold\")\n",
    "\n",
    "\n",
    "wrap_labels(ax, 10)\n",
    "fig.show()"
   ]
  },
  {
   "cell_type": "markdown",
   "id": "98827427",
   "metadata": {
    "papermill": {
     "duration": 0.007773,
     "end_time": "2022-11-19T07:34:08.895318",
     "exception": false,
     "start_time": "2022-11-19T07:34:08.887545",
     "status": "completed"
    },
    "tags": []
   },
   "source": [
    "Through the plots of most and least sold products, we get to know that \n",
    "* Indians have a trend to purchase different types of oils and ghee. \n",
    "* Turmeric and coriander are the most used spices in indian cuisine. On the other hand, Nutmeg and pepper powder are used in scarce amounts.  \n",
    "* Hand santizer is one of the highest sold products most probably due to covid-19 pandemic.\n",
    "* Indians are very keen about haircare as we see hair color, shampoo and oils in the highest selling products.\n",
    "* Raw spices like turmeric are preferred on masala mixtures.\n"
   ]
  },
  {
   "cell_type": "code",
   "execution_count": 8,
   "id": "f7e1c147",
   "metadata": {
    "execution": {
     "iopub.execute_input": "2022-11-19T07:34:08.913253Z",
     "iopub.status.busy": "2022-11-19T07:34:08.912783Z",
     "iopub.status.idle": "2022-11-19T07:34:08.930837Z",
     "shell.execute_reply": "2022-11-19T07:34:08.929802Z"
    },
    "papermill": {
     "duration": 0.030139,
     "end_time": "2022-11-19T07:34:08.933440",
     "exception": false,
     "start_time": "2022-11-19T07:34:08.903301",
     "status": "completed"
    },
    "tags": []
   },
   "outputs": [
    {
     "data": {
      "text/html": [
       "<div>\n",
       "<style scoped>\n",
       "    .dataframe tbody tr th:only-of-type {\n",
       "        vertical-align: middle;\n",
       "    }\n",
       "\n",
       "    .dataframe tbody tr th {\n",
       "        vertical-align: top;\n",
       "    }\n",
       "\n",
       "    .dataframe thead th {\n",
       "        text-align: right;\n",
       "    }\n",
       "</style>\n",
       "<table border=\"1\" class=\"dataframe\">\n",
       "  <thead>\n",
       "    <tr style=\"text-align: right;\">\n",
       "      <th></th>\n",
       "      <th>index</th>\n",
       "      <th>product</th>\n",
       "      <th>category</th>\n",
       "      <th>sub_category</th>\n",
       "      <th>brand</th>\n",
       "      <th>sale_price</th>\n",
       "      <th>market_price</th>\n",
       "      <th>type</th>\n",
       "      <th>rating</th>\n",
       "      <th>description</th>\n",
       "    </tr>\n",
       "  </thead>\n",
       "  <tbody>\n",
       "    <tr>\n",
       "      <th>0</th>\n",
       "      <td>1</td>\n",
       "      <td>Garlic Oil - Vegetarian Capsule 500 mg</td>\n",
       "      <td>Beauty &amp; Hygiene</td>\n",
       "      <td>Hair Care</td>\n",
       "      <td>Sri Sri Ayurveda</td>\n",
       "      <td>220.0</td>\n",
       "      <td>220.0</td>\n",
       "      <td>Hair Oil &amp; Serum</td>\n",
       "      <td>4.1</td>\n",
       "      <td>This Product contains Garlic Oil that is known...</td>\n",
       "    </tr>\n",
       "    <tr>\n",
       "      <th>1</th>\n",
       "      <td>2</td>\n",
       "      <td>Water Bottle - Orange</td>\n",
       "      <td>Kitchen, Garden &amp; Pets</td>\n",
       "      <td>Storage &amp; Accessories</td>\n",
       "      <td>Mastercook</td>\n",
       "      <td>180.0</td>\n",
       "      <td>180.0</td>\n",
       "      <td>Water &amp; Fridge Bottles</td>\n",
       "      <td>2.3</td>\n",
       "      <td>Each product is microwave safe (without lid), ...</td>\n",
       "    </tr>\n",
       "    <tr>\n",
       "      <th>2</th>\n",
       "      <td>3</td>\n",
       "      <td>Brass Angle Deep - Plain, No.2</td>\n",
       "      <td>Cleaning &amp; Household</td>\n",
       "      <td>Pooja Needs</td>\n",
       "      <td>Trm</td>\n",
       "      <td>119.0</td>\n",
       "      <td>250.0</td>\n",
       "      <td>Lamp &amp; Lamp Oil</td>\n",
       "      <td>3.4</td>\n",
       "      <td>A perfect gift for all occasions, be it your m...</td>\n",
       "    </tr>\n",
       "    <tr>\n",
       "      <th>3</th>\n",
       "      <td>4</td>\n",
       "      <td>Cereal Flip Lid Container/Storage Jar - Assort...</td>\n",
       "      <td>Cleaning &amp; Household</td>\n",
       "      <td>Bins &amp; Bathroom Ware</td>\n",
       "      <td>Nakoda</td>\n",
       "      <td>149.0</td>\n",
       "      <td>176.0</td>\n",
       "      <td>Laundry, Storage Baskets</td>\n",
       "      <td>3.7</td>\n",
       "      <td>Multipurpose container with an attractive desi...</td>\n",
       "    </tr>\n",
       "    <tr>\n",
       "      <th>4</th>\n",
       "      <td>5</td>\n",
       "      <td>Creme Soft Soap - For Hands &amp; Body</td>\n",
       "      <td>Beauty &amp; Hygiene</td>\n",
       "      <td>Bath &amp; Hand Wash</td>\n",
       "      <td>Nivea</td>\n",
       "      <td>162.0</td>\n",
       "      <td>162.0</td>\n",
       "      <td>Bathing Bars &amp; Soaps</td>\n",
       "      <td>4.4</td>\n",
       "      <td>Nivea Creme Soft Soap gives your skin the best...</td>\n",
       "    </tr>\n",
       "  </tbody>\n",
       "</table>\n",
       "</div>"
      ],
      "text/plain": [
       "   index                                            product  \\\n",
       "0      1             Garlic Oil - Vegetarian Capsule 500 mg   \n",
       "1      2                              Water Bottle - Orange   \n",
       "2      3                     Brass Angle Deep - Plain, No.2   \n",
       "3      4  Cereal Flip Lid Container/Storage Jar - Assort...   \n",
       "4      5                 Creme Soft Soap - For Hands & Body   \n",
       "\n",
       "                 category           sub_category              brand  \\\n",
       "0        Beauty & Hygiene              Hair Care  Sri Sri Ayurveda    \n",
       "1  Kitchen, Garden & Pets  Storage & Accessories         Mastercook   \n",
       "2    Cleaning & Household            Pooja Needs                Trm   \n",
       "3    Cleaning & Household   Bins & Bathroom Ware             Nakoda   \n",
       "4        Beauty & Hygiene       Bath & Hand Wash              Nivea   \n",
       "\n",
       "   sale_price  market_price                      type  rating  \\\n",
       "0       220.0         220.0          Hair Oil & Serum     4.1   \n",
       "1       180.0         180.0    Water & Fridge Bottles     2.3   \n",
       "2       119.0         250.0           Lamp & Lamp Oil     3.4   \n",
       "3       149.0         176.0  Laundry, Storage Baskets     3.7   \n",
       "4       162.0         162.0      Bathing Bars & Soaps     4.4   \n",
       "\n",
       "                                         description  \n",
       "0  This Product contains Garlic Oil that is known...  \n",
       "1  Each product is microwave safe (without lid), ...  \n",
       "2  A perfect gift for all occasions, be it your m...  \n",
       "3  Multipurpose container with an attractive desi...  \n",
       "4  Nivea Creme Soft Soap gives your skin the best...  "
      ]
     },
     "execution_count": 8,
     "metadata": {},
     "output_type": "execute_result"
    }
   ],
   "source": [
    "bigbasket.head()"
   ]
  },
  {
   "cell_type": "markdown",
   "id": "cd3ae4cf",
   "metadata": {
    "papermill": {
     "duration": 0.007871,
     "end_time": "2022-11-19T07:34:08.950536",
     "exception": false,
     "start_time": "2022-11-19T07:34:08.942665",
     "status": "completed"
    },
    "tags": []
   },
   "source": [
    "**Top and least sold Categories**"
   ]
  },
  {
   "cell_type": "code",
   "execution_count": 9,
   "id": "5b1e357a",
   "metadata": {
    "execution": {
     "iopub.execute_input": "2022-11-19T07:34:08.969318Z",
     "iopub.status.busy": "2022-11-19T07:34:08.968874Z",
     "iopub.status.idle": "2022-11-19T07:34:09.240313Z",
     "shell.execute_reply": "2022-11-19T07:34:09.239400Z"
    },
    "papermill": {
     "duration": 0.283766,
     "end_time": "2022-11-19T07:34:09.242509",
     "exception": false,
     "start_time": "2022-11-19T07:34:08.958743",
     "status": "completed"
    },
    "tags": []
   },
   "outputs": [
    {
     "data": {
      "image/png": "[encoded data removed]",
      "text/plain": [
       "<Figure size 1008x288 with 1 Axes>"
      ]
     },
     "metadata": {},
     "output_type": "display_data"
    }
   ],
   "source": [
    "fig = plt.figure(figsize=(14,4))\n",
    "ax2 = fig.add_axes([0,0,1,1])\n",
    "\n",
    "sns.barplot(x=bigbasket[\"category\"].value_counts()[:10].index, y=bigbasket[\"category\"].value_counts()[:10].values,\n",
    "            data=bigbasket, linewidth=0,\n",
    "            alpha=1.0,\n",
    "            color=\"b\")\n",
    "\n",
    "wrap_labels(ax2,10)"
   ]
  },
  {
   "cell_type": "markdown",
   "id": "febcbbb6",
   "metadata": {
    "papermill": {
     "duration": 0.008359,
     "end_time": "2022-11-19T07:34:09.259780",
     "exception": false,
     "start_time": "2022-11-19T07:34:09.251421",
     "status": "completed"
    },
    "tags": []
   },
   "source": [
    "<div style=\"text-align: left; background-color:#4b94cf; font-family: bodoni; color:white; padding: 10px; margin-bottom: 0em; text-align: center; font-size: 28px;\">Effect of discounted prices\n",
    "  </div>"
   ]
  },
  {
   "cell_type": "markdown",
   "id": "8bd8008d",
   "metadata": {
    "papermill": {
     "duration": 0.008414,
     "end_time": "2022-11-19T07:34:09.276944",
     "exception": false,
     "start_time": "2022-11-19T07:34:09.268530",
     "status": "completed"
    },
    "tags": []
   },
   "source": [
    "Lets check which items can be bought at discounted price from Big basket. For this, we will add another feature \"diff_in_prices\" measuring discount on a certain item."
   ]
  },
  {
   "cell_type": "code",
   "execution_count": 10,
   "id": "cfa220a6",
   "metadata": {
    "execution": {
     "iopub.execute_input": "2022-11-19T07:34:09.296688Z",
     "iopub.status.busy": "2022-11-19T07:34:09.295931Z",
     "iopub.status.idle": "2022-11-19T07:34:09.327432Z",
     "shell.execute_reply": "2022-11-19T07:34:09.326239Z"
    },
    "papermill": {
     "duration": 0.044233,
     "end_time": "2022-11-19T07:34:09.329946",
     "exception": false,
     "start_time": "2022-11-19T07:34:09.285713",
     "status": "completed"
    },
    "tags": []
   },
   "outputs": [
    {
     "data": {
      "text/html": [
       "<div>\n",
       "<style scoped>\n",
       "    .dataframe tbody tr th:only-of-type {\n",
       "        vertical-align: middle;\n",
       "    }\n",
       "\n",
       "    .dataframe tbody tr th {\n",
       "        vertical-align: top;\n",
       "    }\n",
       "\n",
       "    .dataframe thead th {\n",
       "        text-align: right;\n",
       "    }\n",
       "</style>\n",
       "<table border=\"1\" class=\"dataframe\">\n",
       "  <thead>\n",
       "    <tr style=\"text-align: right;\">\n",
       "      <th></th>\n",
       "      <th>index</th>\n",
       "      <th>product</th>\n",
       "      <th>category</th>\n",
       "      <th>sub_category</th>\n",
       "      <th>brand</th>\n",
       "      <th>sale_price</th>\n",
       "      <th>market_price</th>\n",
       "      <th>type</th>\n",
       "      <th>rating</th>\n",
       "      <th>description</th>\n",
       "      <th>diff_in_prices</th>\n",
       "    </tr>\n",
       "  </thead>\n",
       "  <tbody>\n",
       "    <tr>\n",
       "      <th>2</th>\n",
       "      <td>3</td>\n",
       "      <td>Brass Angle Deep - Plain, No.2</td>\n",
       "      <td>Cleaning &amp; Household</td>\n",
       "      <td>Pooja Needs</td>\n",
       "      <td>Trm</td>\n",
       "      <td>119.00</td>\n",
       "      <td>250.0</td>\n",
       "      <td>Lamp &amp; Lamp Oil</td>\n",
       "      <td>3.4</td>\n",
       "      <td>A perfect gift for all occasions, be it your m...</td>\n",
       "      <td>131.00</td>\n",
       "    </tr>\n",
       "    <tr>\n",
       "      <th>3</th>\n",
       "      <td>4</td>\n",
       "      <td>Cereal Flip Lid Container/Storage Jar - Assort...</td>\n",
       "      <td>Cleaning &amp; Household</td>\n",
       "      <td>Bins &amp; Bathroom Ware</td>\n",
       "      <td>Nakoda</td>\n",
       "      <td>149.00</td>\n",
       "      <td>176.0</td>\n",
       "      <td>Laundry, Storage Baskets</td>\n",
       "      <td>3.7</td>\n",
       "      <td>Multipurpose container with an attractive desi...</td>\n",
       "      <td>27.00</td>\n",
       "    </tr>\n",
       "    <tr>\n",
       "      <th>5</th>\n",
       "      <td>6</td>\n",
       "      <td>Germ - Removal Multipurpose Wipes</td>\n",
       "      <td>Cleaning &amp; Household</td>\n",
       "      <td>All Purpose Cleaners</td>\n",
       "      <td>Nature Protect</td>\n",
       "      <td>169.00</td>\n",
       "      <td>199.0</td>\n",
       "      <td>Disinfectant Spray &amp; Cleaners</td>\n",
       "      <td>3.3</td>\n",
       "      <td>Stay protected from contamination with Multipu...</td>\n",
       "      <td>30.00</td>\n",
       "    </tr>\n",
       "    <tr>\n",
       "      <th>10</th>\n",
       "      <td>11</td>\n",
       "      <td>Wheat Grass Powder - Raw</td>\n",
       "      <td>Gourmet &amp; World Food</td>\n",
       "      <td>Cooking &amp; Baking Needs</td>\n",
       "      <td>NUTRASHIL</td>\n",
       "      <td>261.00</td>\n",
       "      <td>290.0</td>\n",
       "      <td>Flours &amp; Pre-Mixes</td>\n",
       "      <td>4.0</td>\n",
       "      <td>Wheatgrass is a superfood potent health food w...</td>\n",
       "      <td>29.00</td>\n",
       "    </tr>\n",
       "    <tr>\n",
       "      <th>15</th>\n",
       "      <td>16</td>\n",
       "      <td>Dove Plastic Soap Case - Assorted Colour</td>\n",
       "      <td>Cleaning &amp; Household</td>\n",
       "      <td>Bins &amp; Bathroom Ware</td>\n",
       "      <td>Nakoda</td>\n",
       "      <td>49.00</td>\n",
       "      <td>59.0</td>\n",
       "      <td>Soap Cases &amp; Dispensers</td>\n",
       "      <td>4.0</td>\n",
       "      <td>This soap case is made of virgin plastic which...</td>\n",
       "      <td>10.00</td>\n",
       "    </tr>\n",
       "    <tr>\n",
       "      <th>...</th>\n",
       "      <td>...</td>\n",
       "      <td>...</td>\n",
       "      <td>...</td>\n",
       "      <td>...</td>\n",
       "      <td>...</td>\n",
       "      <td>...</td>\n",
       "      <td>...</td>\n",
       "      <td>...</td>\n",
       "      <td>...</td>\n",
       "      <td>...</td>\n",
       "      <td>...</td>\n",
       "    </tr>\n",
       "    <tr>\n",
       "      <th>27546</th>\n",
       "      <td>27547</td>\n",
       "      <td>Organic Powder - Garam Masala</td>\n",
       "      <td>Foodgrains, Oil &amp; Masala</td>\n",
       "      <td>Organic Staples</td>\n",
       "      <td>Organic Tattva</td>\n",
       "      <td>152.00</td>\n",
       "      <td>160.0</td>\n",
       "      <td>Organic Masalas &amp; Spices</td>\n",
       "      <td>4.2</td>\n",
       "      <td>Organic Tattva Garam masala is a famous spice ...</td>\n",
       "      <td>8.00</td>\n",
       "    </tr>\n",
       "    <tr>\n",
       "      <th>27550</th>\n",
       "      <td>27551</td>\n",
       "      <td>Wottagirl! Perfume Spray - Heaven, Classic</td>\n",
       "      <td>Beauty &amp; Hygiene</td>\n",
       "      <td>Fragrances &amp; Deos</td>\n",
       "      <td>Layerr</td>\n",
       "      <td>199.20</td>\n",
       "      <td>249.0</td>\n",
       "      <td>Perfume</td>\n",
       "      <td>3.9</td>\n",
       "      <td>Layerr brings you Wottagirl Classic fragrant b...</td>\n",
       "      <td>49.80</td>\n",
       "    </tr>\n",
       "    <tr>\n",
       "      <th>27551</th>\n",
       "      <td>27552</td>\n",
       "      <td>Rosemary</td>\n",
       "      <td>Gourmet &amp; World Food</td>\n",
       "      <td>Cooking &amp; Baking Needs</td>\n",
       "      <td>Puramate</td>\n",
       "      <td>67.50</td>\n",
       "      <td>75.0</td>\n",
       "      <td>Herbs, Seasonings &amp; Rubs</td>\n",
       "      <td>4.0</td>\n",
       "      <td>Puramate rosemary is enough to transform a dis...</td>\n",
       "      <td>7.50</td>\n",
       "    </tr>\n",
       "    <tr>\n",
       "      <th>27553</th>\n",
       "      <td>27554</td>\n",
       "      <td>Green Tea - Pure Original</td>\n",
       "      <td>Beverages</td>\n",
       "      <td>Tea</td>\n",
       "      <td>Tetley</td>\n",
       "      <td>396.00</td>\n",
       "      <td>495.0</td>\n",
       "      <td>Tea Bags</td>\n",
       "      <td>4.2</td>\n",
       "      <td>Tetley Green Tea with its refreshing pure, ori...</td>\n",
       "      <td>99.00</td>\n",
       "    </tr>\n",
       "    <tr>\n",
       "      <th>27554</th>\n",
       "      <td>27555</td>\n",
       "      <td>United Dreams Go Far Deodorant</td>\n",
       "      <td>Beauty &amp; Hygiene</td>\n",
       "      <td>Men's Grooming</td>\n",
       "      <td>United Colors Of Benetton</td>\n",
       "      <td>214.53</td>\n",
       "      <td>390.0</td>\n",
       "      <td>Men's Deodorants</td>\n",
       "      <td>4.5</td>\n",
       "      <td>The new mens fragrance from the United Dreams ...</td>\n",
       "      <td>175.47</td>\n",
       "    </tr>\n",
       "  </tbody>\n",
       "</table>\n",
       "<p>15229 rows × 11 columns</p>\n",
       "</div>"
      ],
      "text/plain": [
       "       index                                            product  \\\n",
       "2          3                     Brass Angle Deep - Plain, No.2   \n",
       "3          4  Cereal Flip Lid Container/Storage Jar - Assort...   \n",
       "5          6                  Germ - Removal Multipurpose Wipes   \n",
       "10        11                           Wheat Grass Powder - Raw   \n",
       "15        16           Dove Plastic Soap Case - Assorted Colour   \n",
       "...      ...                                                ...   \n",
       "27546  27547                      Organic Powder - Garam Masala   \n",
       "27550  27551         Wottagirl! Perfume Spray - Heaven, Classic   \n",
       "27551  27552                                           Rosemary   \n",
       "27553  27554                          Green Tea - Pure Original   \n",
       "27554  27555                     United Dreams Go Far Deodorant   \n",
       "\n",
       "                       category            sub_category  \\\n",
       "2          Cleaning & Household             Pooja Needs   \n",
       "3          Cleaning & Household    Bins & Bathroom Ware   \n",
       "5          Cleaning & Household    All Purpose Cleaners   \n",
       "10         Gourmet & World Food  Cooking & Baking Needs   \n",
       "15         Cleaning & Household    Bins & Bathroom Ware   \n",
       "...                         ...                     ...   \n",
       "27546  Foodgrains, Oil & Masala         Organic Staples   \n",
       "27550          Beauty & Hygiene       Fragrances & Deos   \n",
       "27551      Gourmet & World Food  Cooking & Baking Needs   \n",
       "27553                 Beverages                     Tea   \n",
       "27554          Beauty & Hygiene          Men's Grooming   \n",
       "\n",
       "                            brand  sale_price  market_price  \\\n",
       "2                             Trm      119.00         250.0   \n",
       "3                          Nakoda      149.00         176.0   \n",
       "5                  Nature Protect      169.00         199.0   \n",
       "10                      NUTRASHIL      261.00         290.0   \n",
       "15                         Nakoda       49.00          59.0   \n",
       "...                           ...         ...           ...   \n",
       "27546              Organic Tattva      152.00         160.0   \n",
       "27550                      Layerr      199.20         249.0   \n",
       "27551                    Puramate       67.50          75.0   \n",
       "27553                      Tetley      396.00         495.0   \n",
       "27554  United Colors Of Benetton       214.53         390.0   \n",
       "\n",
       "                                type  rating  \\\n",
       "2                    Lamp & Lamp Oil     3.4   \n",
       "3           Laundry, Storage Baskets     3.7   \n",
       "5      Disinfectant Spray & Cleaners     3.3   \n",
       "10                Flours & Pre-Mixes     4.0   \n",
       "15           Soap Cases & Dispensers     4.0   \n",
       "...                              ...     ...   \n",
       "27546       Organic Masalas & Spices     4.2   \n",
       "27550                        Perfume     3.9   \n",
       "27551       Herbs, Seasonings & Rubs     4.0   \n",
       "27553                       Tea Bags     4.2   \n",
       "27554               Men's Deodorants     4.5   \n",
       "\n",
       "                                             description  diff_in_prices  \n",
       "2      A perfect gift for all occasions, be it your m...          131.00  \n",
       "3      Multipurpose container with an attractive desi...           27.00  \n",
       "5      Stay protected from contamination with Multipu...           30.00  \n",
       "10     Wheatgrass is a superfood potent health food w...           29.00  \n",
       "15     This soap case is made of virgin plastic which...           10.00  \n",
       "...                                                  ...             ...  \n",
       "27546  Organic Tattva Garam masala is a famous spice ...            8.00  \n",
       "27550  Layerr brings you Wottagirl Classic fragrant b...           49.80  \n",
       "27551  Puramate rosemary is enough to transform a dis...            7.50  \n",
       "27553  Tetley Green Tea with its refreshing pure, ori...           99.00  \n",
       "27554  The new mens fragrance from the United Dreams ...          175.47  \n",
       "\n",
       "[15229 rows x 11 columns]"
      ]
     },
     "execution_count": 10,
     "metadata": {},
     "output_type": "execute_result"
    }
   ],
   "source": [
    "bigbasket[\"diff_in_prices\"] = bigbasket[\"market_price\"] - bigbasket[\"sale_price\"]\n",
    "#bigbasket.head()\n",
    "discount = bigbasket[bigbasket[\"diff_in_prices\"] != 0]\n",
    "discount"
   ]
  },
  {
   "cell_type": "code",
   "execution_count": 11,
   "id": "25f052ff",
   "metadata": {
    "_kg_hide-input": true,
    "_kg_hide-output": true,
    "execution": {
     "iopub.execute_input": "2022-11-19T07:34:09.350117Z",
     "iopub.status.busy": "2022-11-19T07:34:09.349703Z",
     "iopub.status.idle": "2022-11-19T07:34:09.354750Z",
     "shell.execute_reply": "2022-11-19T07:34:09.353390Z"
    },
    "papermill": {
     "duration": 0.018049,
     "end_time": "2022-11-19T07:34:09.357263",
     "exception": false,
     "start_time": "2022-11-19T07:34:09.339214",
     "status": "completed"
    },
    "tags": []
   },
   "outputs": [],
   "source": [
    "#sns.boxplot(bigbasket['market_price'], showmeans=True)\n",
    "#sns.boxplot(discount['market_price'], showmeans=True, color='r')"
   ]
  },
  {
   "cell_type": "code",
   "execution_count": 12,
   "id": "f5a7e19f",
   "metadata": {
    "execution": {
     "iopub.execute_input": "2022-11-19T07:34:09.378541Z",
     "iopub.status.busy": "2022-11-19T07:34:09.378073Z",
     "iopub.status.idle": "2022-11-19T07:34:10.186686Z",
     "shell.execute_reply": "2022-11-19T07:34:10.185579Z"
    },
    "papermill": {
     "duration": 0.822702,
     "end_time": "2022-11-19T07:34:10.189417",
     "exception": false,
     "start_time": "2022-11-19T07:34:09.366715",
     "status": "completed"
    },
    "tags": []
   },
   "outputs": [
    {
     "data": {
      "text/plain": [
       "<matplotlib.legend.Legend at 0x7f4e19240e10>"
      ]
     },
     "execution_count": 12,
     "metadata": {},
     "output_type": "execute_result"
    },
    {
     "data": {
      "image/png": "[encoded data removed]",
      "text/plain": [
       "<Figure size 1440x720 with 1 Axes>"
      ]
     },
     "metadata": {},
     "output_type": "display_data"
    }
   ],
   "source": [
    "fig = plt.figure(figsize=(20,10))\n",
    "\n",
    "plt.style.use(\"Solarize_Light2\")\n",
    "sns.distplot(discount.rating, color='b', kde =True)\n",
    "sns.distplot(bigbasket.rating, color='gold', kde =True)\n",
    "plt.xlabel(\"Ratings\",fontsize=15, weight='semibold')\n",
    "plt.ylabel(\"Density\",fontsize=15, weight='semibold')\n",
    "plt.title(\"Relative distribution of all products with discounted products\",fontsize=15, weight='semibold')\n",
    "fig.legend()"
   ]
  },
  {
   "cell_type": "markdown",
   "id": "598fb1eb",
   "metadata": {
    "papermill": {
     "duration": 0.01087,
     "end_time": "2022-11-19T07:34:10.211519",
     "exception": false,
     "start_time": "2022-11-19T07:34:10.200649",
     "status": "completed"
    },
    "tags": []
   },
   "source": [
    "In the above graph, yellow color specifies rating of all the items, whereas blue color denotes the ratings of the items on which some discount has been offered. As we see, \n",
    "> the offered discounts showed a **little increase in purchase of items with 3.0 to 4.2 ratings**. Otherwise, discounts helped no increase in purchase. Another interesting observation was that **the highest rated products (4.5 to 5) with no discount exceeded the rate of purchase of discounted products**. It means the customers if provided with high quality products which satisfy them, will buy the products no matter discount is offered or not."
   ]
  },
  {
   "cell_type": "markdown",
   "id": "c7e384aa",
   "metadata": {
    "papermill": {
     "duration": 0.010197,
     "end_time": "2022-11-19T07:34:10.233344",
     "exception": false,
     "start_time": "2022-11-19T07:34:10.223147",
     "status": "completed"
    },
    "tags": []
   },
   "source": [
    "<div style=\"text-align: left; background-color:#4b94cf; font-family: bodoni; color:white; padding: 10px; margin-bottom: 0em; text-align: center; font-size: 28px;\">EDA of high rated products (more than 4 rating)</div>"
   ]
  },
  {
   "cell_type": "code",
   "execution_count": 13,
   "id": "f819a3b2",
   "metadata": {
    "_kg_hide-input": true,
    "_kg_hide-output": true,
    "execution": {
     "iopub.execute_input": "2022-11-19T07:34:10.256455Z",
     "iopub.status.busy": "2022-11-19T07:34:10.255983Z",
     "iopub.status.idle": "2022-11-19T07:34:10.270774Z",
     "shell.execute_reply": "2022-11-19T07:34:10.268839Z"
    },
    "papermill": {
     "duration": 0.029619,
     "end_time": "2022-11-19T07:34:10.273542",
     "exception": false,
     "start_time": "2022-11-19T07:34:10.243923",
     "status": "completed"
    },
    "tags": []
   },
   "outputs": [
    {
     "name": "stdout",
     "output_type": "stream",
     "text": [
      "Number of products with more than 4 rating is 10264\n"
     ]
    }
   ],
   "source": [
    "highrated = bigbasket.query('rating > 4', inplace=False)\n",
    "print(\"Number of products with more than 4 rating is\",highrated.shape[0])"
   ]
  },
  {
   "cell_type": "code",
   "execution_count": 14,
   "id": "74de071e",
   "metadata": {
    "execution": {
     "iopub.execute_input": "2022-11-19T07:34:10.297639Z",
     "iopub.status.busy": "2022-11-19T07:34:10.296431Z",
     "iopub.status.idle": "2022-11-19T07:34:10.314849Z",
     "shell.execute_reply": "2022-11-19T07:34:10.313782Z"
    },
    "papermill": {
     "duration": 0.033117,
     "end_time": "2022-11-19T07:34:10.317321",
     "exception": false,
     "start_time": "2022-11-19T07:34:10.284204",
     "status": "completed"
    },
    "tags": []
   },
   "outputs": [
    {
     "data": {
      "text/html": [
       "<div>\n",
       "<style scoped>\n",
       "    .dataframe tbody tr th:only-of-type {\n",
       "        vertical-align: middle;\n",
       "    }\n",
       "\n",
       "    .dataframe tbody tr th {\n",
       "        vertical-align: top;\n",
       "    }\n",
       "\n",
       "    .dataframe thead th {\n",
       "        text-align: right;\n",
       "    }\n",
       "</style>\n",
       "<table border=\"1\" class=\"dataframe\">\n",
       "  <thead>\n",
       "    <tr style=\"text-align: right;\">\n",
       "      <th></th>\n",
       "      <th>index</th>\n",
       "      <th>product</th>\n",
       "      <th>category</th>\n",
       "      <th>sub_category</th>\n",
       "      <th>brand</th>\n",
       "      <th>sale_price</th>\n",
       "      <th>market_price</th>\n",
       "      <th>type</th>\n",
       "      <th>rating</th>\n",
       "      <th>description</th>\n",
       "      <th>diff_in_prices</th>\n",
       "    </tr>\n",
       "  </thead>\n",
       "  <tbody>\n",
       "    <tr>\n",
       "      <th>0</th>\n",
       "      <td>1</td>\n",
       "      <td>Garlic Oil - Vegetarian Capsule 500 mg</td>\n",
       "      <td>Beauty &amp; Hygiene</td>\n",
       "      <td>Hair Care</td>\n",
       "      <td>Sri Sri Ayurveda</td>\n",
       "      <td>220.0</td>\n",
       "      <td>220.0</td>\n",
       "      <td>Hair Oil &amp; Serum</td>\n",
       "      <td>4.1</td>\n",
       "      <td>This Product contains Garlic Oil that is known...</td>\n",
       "      <td>0.0</td>\n",
       "    </tr>\n",
       "    <tr>\n",
       "      <th>4</th>\n",
       "      <td>5</td>\n",
       "      <td>Creme Soft Soap - For Hands &amp; Body</td>\n",
       "      <td>Beauty &amp; Hygiene</td>\n",
       "      <td>Bath &amp; Hand Wash</td>\n",
       "      <td>Nivea</td>\n",
       "      <td>162.0</td>\n",
       "      <td>162.0</td>\n",
       "      <td>Bathing Bars &amp; Soaps</td>\n",
       "      <td>4.4</td>\n",
       "      <td>Nivea Creme Soft Soap gives your skin the best...</td>\n",
       "      <td>0.0</td>\n",
       "    </tr>\n",
       "    <tr>\n",
       "      <th>9</th>\n",
       "      <td>10</td>\n",
       "      <td>Scrub Pad - Anti- Bacterial, Regular</td>\n",
       "      <td>Cleaning &amp; Household</td>\n",
       "      <td>Mops, Brushes &amp; Scrubs</td>\n",
       "      <td>Scotch brite</td>\n",
       "      <td>20.0</td>\n",
       "      <td>20.0</td>\n",
       "      <td>Utensil Scrub-Pad, Glove</td>\n",
       "      <td>4.3</td>\n",
       "      <td>Scotch Brite Anti- Bacterial Scrub Pad thoroug...</td>\n",
       "      <td>0.0</td>\n",
       "    </tr>\n",
       "    <tr>\n",
       "      <th>12</th>\n",
       "      <td>13</td>\n",
       "      <td>Face Wash - Oil Control, Active</td>\n",
       "      <td>Beauty &amp; Hygiene</td>\n",
       "      <td>Skin Care</td>\n",
       "      <td>Oxy</td>\n",
       "      <td>110.0</td>\n",
       "      <td>110.0</td>\n",
       "      <td>Face Care</td>\n",
       "      <td>5.0</td>\n",
       "      <td>This face wash deeply cleanses dirt and impuri...</td>\n",
       "      <td>0.0</td>\n",
       "    </tr>\n",
       "    <tr>\n",
       "      <th>14</th>\n",
       "      <td>15</td>\n",
       "      <td>Just Spray - Mosquito Repellent Room Spray</td>\n",
       "      <td>Cleaning &amp; Household</td>\n",
       "      <td>Fresheners &amp; Repellents</td>\n",
       "      <td>Herbal Strategi</td>\n",
       "      <td>200.0</td>\n",
       "      <td>200.0</td>\n",
       "      <td>Mosquito Repellent</td>\n",
       "      <td>4.2</td>\n",
       "      <td>Strategi Just Spray is a very effective 100% H...</td>\n",
       "      <td>0.0</td>\n",
       "    </tr>\n",
       "  </tbody>\n",
       "</table>\n",
       "</div>"
      ],
      "text/plain": [
       "    index                                     product              category  \\\n",
       "0       1      Garlic Oil - Vegetarian Capsule 500 mg      Beauty & Hygiene   \n",
       "4       5          Creme Soft Soap - For Hands & Body      Beauty & Hygiene   \n",
       "9      10        Scrub Pad - Anti- Bacterial, Regular  Cleaning & Household   \n",
       "12     13             Face Wash - Oil Control, Active      Beauty & Hygiene   \n",
       "14     15  Just Spray - Mosquito Repellent Room Spray  Cleaning & Household   \n",
       "\n",
       "               sub_category              brand  sale_price  market_price  \\\n",
       "0                 Hair Care  Sri Sri Ayurveda        220.0         220.0   \n",
       "4          Bath & Hand Wash              Nivea       162.0         162.0   \n",
       "9    Mops, Brushes & Scrubs       Scotch brite        20.0          20.0   \n",
       "12                Skin Care                Oxy       110.0         110.0   \n",
       "14  Fresheners & Repellents    Herbal Strategi       200.0         200.0   \n",
       "\n",
       "                        type  rating  \\\n",
       "0           Hair Oil & Serum     4.1   \n",
       "4       Bathing Bars & Soaps     4.4   \n",
       "9   Utensil Scrub-Pad, Glove     4.3   \n",
       "12                 Face Care     5.0   \n",
       "14        Mosquito Repellent     4.2   \n",
       "\n",
       "                                          description  diff_in_prices  \n",
       "0   This Product contains Garlic Oil that is known...             0.0  \n",
       "4   Nivea Creme Soft Soap gives your skin the best...             0.0  \n",
       "9   Scotch Brite Anti- Bacterial Scrub Pad thoroug...             0.0  \n",
       "12  This face wash deeply cleanses dirt and impuri...             0.0  \n",
       "14  Strategi Just Spray is a very effective 100% H...             0.0  "
      ]
     },
     "execution_count": 14,
     "metadata": {},
     "output_type": "execute_result"
    }
   ],
   "source": [
    "highrated.head()"
   ]
  },
  {
   "cell_type": "code",
   "execution_count": 15,
   "id": "7c9fbc60",
   "metadata": {
    "execution": {
     "iopub.execute_input": "2022-11-19T07:34:10.341355Z",
     "iopub.status.busy": "2022-11-19T07:34:10.340702Z",
     "iopub.status.idle": "2022-11-19T07:34:10.590508Z",
     "shell.execute_reply": "2022-11-19T07:34:10.589584Z"
    },
    "papermill": {
     "duration": 0.264607,
     "end_time": "2022-11-19T07:34:10.592849",
     "exception": false,
     "start_time": "2022-11-19T07:34:10.328242",
     "status": "completed"
    },
    "tags": []
   },
   "outputs": [
    {
     "data": {
      "image/png": "[encoded data removed]",
      "text/plain": [
       "<Figure size 1008x288 with 1 Axes>"
      ]
     },
     "metadata": {},
     "output_type": "display_data"
    }
   ],
   "source": [
    "fig = plt.figure(figsize=(14,4))\n",
    "ax2 = fig.add_axes([0,0,1,1])\n",
    "\n",
    "sns.barplot(x=highrated[\"category\"].value_counts()[:10].index, y=highrated[\"category\"].value_counts()[:10].values,\n",
    "            data=highrated, linewidth=0,\n",
    "            alpha=1.0,\n",
    "            color=\"b\")\n",
    "\n",
    "wrap_labels(ax2,10)"
   ]
  },
  {
   "cell_type": "raw",
   "id": "1fe237ce",
   "metadata": {
    "papermill": {
     "duration": 0.010908,
     "end_time": "2022-11-19T07:34:10.615176",
     "exception": false,
     "start_time": "2022-11-19T07:34:10.604268",
     "status": "completed"
    },
    "tags": []
   },
   "source": []
  },
  {
   "cell_type": "markdown",
   "id": "846a4dbb",
   "metadata": {
    "papermill": {
     "duration": 0.01092,
     "end_time": "2022-11-19T07:34:10.637274",
     "exception": false,
     "start_time": "2022-11-19T07:34:10.626354",
     "status": "completed"
    },
    "tags": []
   },
   "source": [
    "# Work in process!\n",
    "<div style=\"border-radius:10px;\n",
    "            border :#0A0104 solid;\n",
    "            padding: 15px;\n",
    "            background-color:#FFF0F5   ;\n",
    "           font-size:110%;\n",
    "            text-align: left\">Do upvote and comment if you like my efforts. Any constructive addition or suggestion is highly welcomed."
   ]
  }
 ],
 "metadata": {
  "kernelspec": {
   "display_name": "Python 3",
   "language": "python",
   "name": "python3"
  },
  "language_info": {
   "codemirror_mode": {
    "name": "ipython",
    "version": 3
   },
   "file_extension": ".py",
   "mimetype": "text/x-python",
   "name": "python",
   "nbconvert_exporter": "python",
   "pygments_lexer": "ipython3",
   "version": "3.7.12"
  },
  "papermill": {
   "default_parameters": {},
   "duration": 15.927054,
   "end_time": "2022-11-19T07:34:11.472363",
   "environment_variables": {},
   "exception": null,
   "input_path": "__notebook__.ipynb",
   "output_path": "__notebook__.ipynb",
   "parameters": {},
   "start_time": "2022-11-19T07:33:55.545309",
   "version": "2.3.4"
  }
 },
 "nbformat": 4,
 "nbformat_minor": 5
}
